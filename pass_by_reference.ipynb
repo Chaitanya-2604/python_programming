{
 "cells": [
  {
   "cell_type": "code",
   "execution_count": 8,
   "id": "f075bd6e",
   "metadata": {},
   "outputs": [
    {
     "name": "stdout",
     "output_type": "stream",
     "text": [
      "Hello chaitanya sir\n"
     ]
    }
   ],
   "source": [
    "class Customer():\n",
    "    \n",
    "    def __init__(self,name,gender):\n",
    "        self.name=name\n",
    "        self.gender=gender\n",
    "        \n",
    "\n",
    "def greet(customer):\n",
    "    if customer.gender=='male':\n",
    "        print(\"Hello\",customer.name,\"sir\")\n",
    "    else:\n",
    "        print(\"Hello\",customer.name,\"ma'am\")\n",
    "        \n",
    "        \n",
    "        \n",
    "cust=Customer('chaitanya','male')  #pass by reference\n",
    "greet(cust)"
   ]
  },
  {
   "cell_type": "code",
   "execution_count": 9,
   "id": "41c9dc07",
   "metadata": {},
   "outputs": [
    {
     "name": "stdout",
     "output_type": "stream",
     "text": [
      "Hello i am Ash & i am 23\n",
      "Hello i am Rama & i am 22\n",
      "Hello i am manoj & i am 25\n"
     ]
    }
   ],
   "source": [
    "# we can treat object like a elements of list\n",
    "\n",
    "class Customer():\n",
    "    \n",
    "    def __init__(self,name,age):\n",
    "        self.name=name\n",
    "        self.age=age\n",
    "        \n",
    "    def intro(self):\n",
    "        print(\"Hello i am\",self.name,\"& i am\",self.age)\n",
    "        \n",
    "        \n",
    "cust1=Customer('Ash',23)\n",
    "cust2=Customer('Rama',22)\n",
    "cust3=Customer('manoj',25)\n",
    "    \n",
    "l=[cust1,cust2,cust3]\n",
    "\n",
    "for i in l:\n",
    "    i.intro()\n",
    "        \n",
    "        \n",
    "        "
   ]
  },
  {
   "cell_type": "code",
   "execution_count": null,
   "id": "931fb582",
   "metadata": {},
   "outputs": [],
   "source": []
  }
 ],
 "metadata": {
  "kernelspec": {
   "display_name": "Python 3 (ipykernel)",
   "language": "python",
   "name": "python3"
  },
  "language_info": {
   "codemirror_mode": {
    "name": "ipython",
    "version": 3
   },
   "file_extension": ".py",
   "mimetype": "text/x-python",
   "name": "python",
   "nbconvert_exporter": "python",
   "pygments_lexer": "ipython3",
   "version": "3.9.13"
  }
 },
 "nbformat": 4,
 "nbformat_minor": 5
}
