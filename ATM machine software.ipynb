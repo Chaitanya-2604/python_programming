{
 "cells": [
  {
   "cell_type": "code",
   "execution_count": 1,
   "id": "e48b811e",
   "metadata": {},
   "outputs": [],
   "source": [
    "class Atm():\n",
    "    def __init__(self):\n",
    "        self.pin=0\n",
    "        self.balance=0\n",
    "        self.menu()\n",
    "        \n",
    "    def menu(self):\n",
    "        user_input=input(\"\"\" Hello! How would you like to proceed?\n",
    "                1.Enter 1 to create pin\n",
    "                2.Enter 2 for deposit\n",
    "                3.Enter 3 for withdraw\n",
    "                4.Enter 4 for check Balance\n",
    "                5.Enter 5 for Exit\n",
    "        \"\"\")\n",
    "        \n",
    "        if user_input=='1':\n",
    "            self.create_pin()\n",
    "        elif user_input=='2':\n",
    "            self.deposit()\n",
    "        elif user_input=='3':\n",
    "            self.withdraw()\n",
    "        elif user_input=='4':\n",
    "            self.check_balance()\n",
    "        else:\n",
    "            print(\"session end\")\n",
    "            \n",
    "    def create_pin(self):\n",
    "        self.pin=int(input(\"Enter your pin\"))\n",
    "        print(\"pin set sucessfully\")\n",
    "        \n",
    "    def deposit(self):\n",
    "        temp=int(input(\"Enter your pin\"))\n",
    "        \n",
    "        if temp==self.pin:\n",
    "            deposit=int(input(\"Enter deposit amount\"))\n",
    "            self.balance+=deposit\n",
    "            print(\"Deposit Sucessfully\")\n",
    "        else:\n",
    "            print(\"Invalid pin\")\n",
    "            \n",
    "    def withdraw(self):\n",
    "        temp=int(input(\"Enter your pin\"))\n",
    "        \n",
    "        if temp==self.pin:\n",
    "            withdraw=int(input(\"Enter withdraw amount\"))\n",
    "            if withdraw<=self.balance:\n",
    "                self.balance-=withdraw\n",
    "                print(\"Operation Sucessful\")\n",
    "            else:\n",
    "                print(\"Insufficient fund\")\n",
    "                \n",
    "        else:\n",
    "            print(\"Invalid pin\")\n",
    "            \n",
    "    def check_balance(self):\n",
    "        temp=int(input(\"Enter your pin\"))\n",
    "        if temp==self.pin:\n",
    "            print(self.balance)\n",
    "            \n",
    "        else:\n",
    "            print(\"Invalid pin\")\n",
    "        "
   ]
  },
  {
   "cell_type": "code",
   "execution_count": 2,
   "id": "74a5e6e8",
   "metadata": {},
   "outputs": [
    {
     "name": "stdout",
     "output_type": "stream",
     "text": [
      " Hello! How would you like to proceed?\n",
      "                1.Enter 1 to create pin\n",
      "                2.Enter 2 for deposit\n",
      "                3.Enter 3 for withdraw\n",
      "                4.Enter 4 for check Balance\n",
      "                5.Enter 5 for Exit\n",
      "        1\n",
      "Enter your pin1234\n",
      "pin set sucessfully\n"
     ]
    }
   ],
   "source": [
    "sbi=Atm()"
   ]
  },
  {
   "cell_type": "code",
   "execution_count": 4,
   "id": "15864863",
   "metadata": {},
   "outputs": [
    {
     "name": "stdout",
     "output_type": "stream",
     "text": [
      "Enter your pin1234\n",
      "Enter deposit amount40000\n",
      "Deposit Sucessfully\n"
     ]
    }
   ],
   "source": [
    "sbi.deposit()"
   ]
  },
  {
   "cell_type": "code",
   "execution_count": 5,
   "id": "2def1317",
   "metadata": {},
   "outputs": [
    {
     "name": "stdout",
     "output_type": "stream",
     "text": [
      "Enter your pin1234\n",
      "40000\n"
     ]
    }
   ],
   "source": [
    "sbi.check_balance()"
   ]
  },
  {
   "cell_type": "code",
   "execution_count": 6,
   "id": "6ca5c4b3",
   "metadata": {},
   "outputs": [
    {
     "name": "stdout",
     "output_type": "stream",
     "text": [
      "Enter your pin1234\n",
      "Enter withdraw amount10000\n",
      "Operation Sucessful\n"
     ]
    }
   ],
   "source": [
    "sbi.withdraw()"
   ]
  },
  {
   "cell_type": "code",
   "execution_count": 7,
   "id": "48848c7f",
   "metadata": {},
   "outputs": [
    {
     "name": "stdout",
     "output_type": "stream",
     "text": [
      "Enter your pin1234\n",
      "30000\n"
     ]
    }
   ],
   "source": [
    "sbi.check_balance()"
   ]
  },
  {
   "cell_type": "code",
   "execution_count": 8,
   "id": "27f19878",
   "metadata": {},
   "outputs": [
    {
     "name": "stdout",
     "output_type": "stream",
     "text": [
      " Hello! How would you like to proceed?\n",
      "                1.Enter 1 to create pin\n",
      "                2.Enter 2 for deposit\n",
      "                3.Enter 3 for withdraw\n",
      "                4.Enter 4 for check Balance\n",
      "                5.Enter 5 for Exit\n",
      "        5\n",
      "session end\n"
     ]
    }
   ],
   "source": [
    "sbi.menu()"
   ]
  },
  {
   "cell_type": "code",
   "execution_count": null,
   "id": "832743f4",
   "metadata": {},
   "outputs": [],
   "source": []
  }
 ],
 "metadata": {
  "kernelspec": {
   "display_name": "Python 3 (ipykernel)",
   "language": "python",
   "name": "python3"
  },
  "language_info": {
   "codemirror_mode": {
    "name": "ipython",
    "version": 3
   },
   "file_extension": ".py",
   "mimetype": "text/x-python",
   "name": "python",
   "nbconvert_exporter": "python",
   "pygments_lexer": "ipython3",
   "version": "3.9.13"
  }
 },
 "nbformat": 4,
 "nbformat_minor": 5
}
