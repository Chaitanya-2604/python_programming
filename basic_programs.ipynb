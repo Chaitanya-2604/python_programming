{
 "cells": [
  {
   "cell_type": "code",
   "execution_count": 1,
   "id": "f718cdd8",
   "metadata": {},
   "outputs": [
    {
     "name": "stdout",
     "output_type": "stream",
     "text": [
      "Enter Number2\n",
      "Number is Even\n"
     ]
    }
   ],
   "source": [
    "# Even and Odd Number\n",
    "\n",
    "num=int(input(\"Enter Number\"))\n",
    "if num%2==0:\n",
    "    print(\"Number is Even\")\n",
    "else:\n",
    "    print(\"Number is odd\")"
   ]
  },
  {
   "cell_type": "code",
   "execution_count": 4,
   "id": "3afc0ad0",
   "metadata": {},
   "outputs": [
    {
     "name": "stdout",
     "output_type": "stream",
     "text": [
      "Enter Number0\n",
      "Zero\n"
     ]
    }
   ],
   "source": [
    "# number is positive or negative\n",
    "num=int(input(\"Enter Number\"))\n",
    "if num>0:\n",
    "    print(\"Positive\")\n",
    "elif num<0:\n",
    "    print(\"Negative\")\n",
    "else:\n",
    "    print(\"Zero\")\n"
   ]
  },
  {
   "cell_type": "code",
   "execution_count": 5,
   "id": "5612450b",
   "metadata": {},
   "outputs": [
    {
     "name": "stdout",
     "output_type": "stream",
     "text": [
      "Enter 1st number5\n",
      "Enter 2nd number6\n",
      "Sum is 11\n"
     ]
    }
   ],
   "source": [
    "# sum of two numbers\n",
    "num1=int(input(\"Enter 1st number\"))\n",
    "num2=int(input(\"Enter 2nd number\"))\n",
    "\n",
    "print(\"Sum is\",num1 + num2)"
   ]
  },
  {
   "cell_type": "code",
   "execution_count": 29,
   "id": "d41c55ff",
   "metadata": {},
   "outputs": [
    {
     "name": "stdout",
     "output_type": "stream",
     "text": [
      "Enter Number23\n",
      "prime number\n"
     ]
    }
   ],
   "source": [
    "# Prime or not\n",
    "num=int(input(\"Enter Number\"))\n",
    "count=0\n",
    "if num>1:\n",
    "    for i in range(1,num+1):\n",
    "        if num%i==0:\n",
    "            count=count+1\n",
    "            \n",
    "    if count==2:\n",
    "        print(\"prime number\")\n",
    "    else:\n",
    "        print(\"Not prime number\")\n",
    "\n",
    "else:\n",
    "    print(\"Not  prime number\")\n",
    "\n",
    "\n"
   ]
  },
  {
   "cell_type": "code",
   "execution_count": 40,
   "id": "a494e6b6",
   "metadata": {},
   "outputs": [
    {
     "name": "stdout",
     "output_type": "stream",
     "text": [
      "Enter number125458\n",
      "False\n"
     ]
    }
   ],
   "source": [
    "# palindrome\n",
    "\n",
    "#e.g 12321\n",
    "num=input(\"Enter number\")\n",
    "x=len(num)\n",
    "i=0\n",
    "j=x-1\n",
    "\n",
    "while i < j:\n",
    "    if num[i]!=num[j]:\n",
    "        print(False)\n",
    "        break\n",
    "    i+=1\n",
    "    j-=1\n",
    "    print(True)\n",
    "    break"
   ]
  },
  {
   "cell_type": "code",
   "execution_count": 42,
   "id": "4f942f7e",
   "metadata": {},
   "outputs": [
    {
     "name": "stdout",
     "output_type": "stream",
     "text": [
      "Enter a StringNitin\n",
      "True\n"
     ]
    }
   ],
   "source": [
    "# nitin\n",
    "\n",
    "x=input(\"Enter a String\")\n",
    "x=x.lower()\n",
    "l=len(x)\n",
    "i=0\n",
    "j=l-1\n",
    "\n",
    "while i<j:\n",
    "    if x[i]!=x[j]:\n",
    "        print(False)\n",
    "        break\n",
    "    i+=1\n",
    "    j-=1\n",
    "    print(True)\n",
    "    break   "
   ]
  },
  {
   "cell_type": "code",
   "execution_count": null,
   "id": "d455dc0f",
   "metadata": {},
   "outputs": [],
   "source": [
    "#Armstrong number\n",
    "\n",
    "num=int(input(\"Enter a number\"))\n",
    "num1=str(num)\n",
    "l=len(num1)\n",
    "sum=0\n",
    "\n",
    "for i in num1:\n",
    "    sum+=int(i)**l\n",
    "if sum==num:\n",
    "    print(\"yes\")\n",
    "else:\n",
    "    print(\"No\")\n"
   ]
  },
  {
   "cell_type": "code",
   "execution_count": null,
   "id": "977849a8",
   "metadata": {},
   "outputs": [],
   "source": [
    "\n",
    "no1=int(input(\"Enter number\"))\n",
    "no=str(no1)\n",
    "l=len(no)\n",
    "sum=0\n",
    "for i in no:\n",
    "     sum+=int(i)**l\n",
    "if sum==no1:\n",
    "    print(\"Its Armstrong\")\n",
    "else:\n",
    "    print(\"Not Armstrong\")\n",
    "    "
   ]
  },
  {
   "cell_type": "code",
   "execution_count": 59,
   "id": "68217659",
   "metadata": {},
   "outputs": [
    {
     "name": "stdout",
     "output_type": "stream",
     "text": [
      "Enter first no6\n",
      "Enter second no-10\n",
      "6\n"
     ]
    }
   ],
   "source": [
    "# find maximum no\n",
    "\n",
    "a=int(input(\"Enter first no\"))\n",
    "b=int(input(\"Enter second no\"))\n",
    "\n",
    "def maximum(x,y):\n",
    "    if x>=y:\n",
    "        return x\n",
    "    else:\n",
    "        return y\n",
    "print(maximum(a,b))"
   ]
  },
  {
   "cell_type": "code",
   "execution_count": 62,
   "id": "c82e3b42",
   "metadata": {},
   "outputs": [
    {
     "name": "stdout",
     "output_type": "stream",
     "text": [
      "Enter first no1\n",
      "Enter second no8\n",
      "Enter third no3\n",
      "8\n"
     ]
    }
   ],
   "source": [
    "a=int(input(\"Enter first no\"))\n",
    "b=int(input(\"Enter second no\"))\n",
    "c=int(input(\"Enter third no\"))\n",
    "\n",
    "def maximum(x,y,z):\n",
    "    if x>=y and x>=z:\n",
    "        return x\n",
    "    elif y>=x and y>=z:\n",
    "        return y\n",
    "    else:\n",
    "        return z\n",
    "    \n",
    "print(maximum(a,b,c))"
   ]
  },
  {
   "cell_type": "code",
   "execution_count": 74,
   "id": "d21bbf05",
   "metadata": {},
   "outputs": [
    {
     "name": "stdout",
     "output_type": "stream",
     "text": [
      "Enter a number4\n",
      "24\n"
     ]
    }
   ],
   "source": [
    "# factorial \n",
    "\n",
    "num= int(input(\"Enter a number\"))\n",
    "\n",
    "def facto(no):\n",
    "    if no<0:\n",
    "        print(\"Enter positive number\")\n",
    "    \n",
    "    elif no==0:\n",
    "        print(\"factorial  is 1\")\n",
    "            \n",
    "    else:\n",
    "        fact=1\n",
    "        for i in range(1,no+1):\n",
    "            fact=fact*i\n",
    "        return fact\n",
    "print(facto(num))"
   ]
  },
  {
   "cell_type": "code",
   "execution_count": 79,
   "id": "52741a63",
   "metadata": {},
   "outputs": [
    {
     "name": "stdout",
     "output_type": "stream",
     "text": [
      "0\n",
      "1\n",
      "1\n",
      "2\n",
      "3\n",
      "5\n",
      "8\n"
     ]
    }
   ],
   "source": [
    "# Fibonacci series \n",
    "\n",
    "n1=0\n",
    "n2=1\n",
    "print(n1)\n",
    "print(n2)\n",
    "for i in range(5):\n",
    "    sum=n1+n2\n",
    "    print(sum)\n",
    "    n1=n2\n",
    "    n2=sum\n",
    "\n"
   ]
  },
  {
   "cell_type": "code",
   "execution_count": 97,
   "id": "614a9df8",
   "metadata": {},
   "outputs": [
    {
     "name": "stdout",
     "output_type": "stream",
     "text": [
      "*  \n",
      "* *  \n",
      "* * *  \n",
      "* * * *  \n",
      "* * * * *  \n"
     ]
    }
   ],
   "source": [
    "# pattern \n",
    "\n",
    "\n",
    "for i in range(5):\n",
    "    for j in range(i+1):\n",
    "        print(\"*\",end=\" \")\n",
    "    print(\" \")"
   ]
  },
  {
   "cell_type": "code",
   "execution_count": 99,
   "id": "a2e43b2d",
   "metadata": {},
   "outputs": [
    {
     "name": "stdout",
     "output_type": "stream",
     "text": [
      "1  \n",
      "1 2  \n",
      "1 2 3  \n",
      "1 2 3 4  \n",
      "1 2 3 4 5  \n"
     ]
    }
   ],
   "source": [
    "for i in range(5):\n",
    "    for j in range(i+1):\n",
    "        print(j+1,end=\" \")\n",
    "    print(\" \")"
   ]
  },
  {
   "cell_type": "code",
   "execution_count": 102,
   "id": "c389a386",
   "metadata": {},
   "outputs": [
    {
     "name": "stdout",
     "output_type": "stream",
     "text": [
      "* * * * * \n",
      "* * * * \n",
      "* * * \n",
      "* * \n",
      "* \n"
     ]
    }
   ],
   "source": [
    "for  i in range(5):\n",
    "    for j in range(i,5):\n",
    "        print(\"*\", end=\" \")\n",
    "    print(\"\")"
   ]
  },
  {
   "cell_type": "code",
   "execution_count": 105,
   "id": "c51a31ba",
   "metadata": {},
   "outputs": [
    {
     "name": "stdout",
     "output_type": "stream",
     "text": [
      "          * \n",
      "        * * \n",
      "      * * * \n",
      "    * * * * \n",
      "  * * * * * \n"
     ]
    }
   ],
   "source": [
    "for i in range(5):\n",
    "    for j in range(i,5):\n",
    "        print(\" \",end=\" \")\n",
    "    for j in range(i+1):\n",
    "        print(\"*\",end=\" \")\n",
    "    print()"
   ]
  },
  {
   "cell_type": "code",
   "execution_count": 110,
   "id": "02e58d03",
   "metadata": {},
   "outputs": [
    {
     "name": "stdout",
     "output_type": "stream",
     "text": [
      "          * \n",
      "        * * * \n",
      "      * * * * * \n",
      "    * * * * * * * \n",
      "  * * * * * * * * * \n"
     ]
    }
   ],
   "source": [
    "for i in range(5):\n",
    "    for j in range(i,5):\n",
    "        print(\" \",end=\" \")\n",
    "    for j in range(i+1):\n",
    "        print(\"*\",end=\" \")\n",
    "    for j in range(i+1-1):\n",
    "        print(\"*\",end=\" \")   \n",
    "    print()"
   ]
  },
  {
   "cell_type": "code",
   "execution_count": 111,
   "id": "e52a3af9",
   "metadata": {},
   "outputs": [
    {
     "name": "stdout",
     "output_type": "stream",
     "text": [
      "          * \n",
      "        * * * \n",
      "      * * * * * \n",
      "    * * * * * * * \n",
      "  * * * * * * * * * \n"
     ]
    }
   ],
   "source": [
    "for i in range(5):\n",
    "    for j in range(i,5):\n",
    "        print(\" \",end=\" \")\n",
    "    for j in range(i):\n",
    "        print(\"*\",end=\" \")\n",
    "    for j in range(i+1):\n",
    "        print(\"*\",end=\" \")   \n",
    "    print()"
   ]
  },
  {
   "cell_type": "code",
   "execution_count": 112,
   "id": "ac121686",
   "metadata": {},
   "outputs": [
    {
     "name": "stdout",
     "output_type": "stream",
     "text": [
      "1 \n",
      "2 3 \n",
      "4 5 6 \n",
      "7 8 9 10 \n",
      "11 12 13 14 15 \n"
     ]
    }
   ],
   "source": [
    "count=0\n",
    "for i in range(5):\n",
    "    for j in range(i+1):\n",
    "        print(count+1,end=\" \")\n",
    "        count+=1\n",
    "    print(\"\")"
   ]
  },
  {
   "cell_type": "code",
   "execution_count": 113,
   "id": "3ff7a300",
   "metadata": {},
   "outputs": [
    {
     "name": "stdout",
     "output_type": "stream",
     "text": [
      "A \n",
      "B B \n",
      "C C C \n",
      "D D D D \n",
      "E E E E E \n"
     ]
    }
   ],
   "source": [
    "num=65\n",
    "for i in range(5):\n",
    "    for j in range(i+1):\n",
    "        ch=chr(num)\n",
    "        print(ch,end=\" \")\n",
    "    num+=1\n",
    "    print(\"\")"
   ]
  },
  {
   "cell_type": "code",
   "execution_count": 115,
   "id": "83dfaf95",
   "metadata": {},
   "outputs": [
    {
     "name": "stdout",
     "output_type": "stream",
     "text": [
      "9 5\n"
     ]
    }
   ],
   "source": [
    "#swap two numbers\n",
    "a=5\n",
    "b=9\n",
    "a,b=b,a\n",
    "\n",
    "print(a,b)"
   ]
  },
  {
   "cell_type": "code",
   "execution_count": 116,
   "id": "0a0e6399",
   "metadata": {},
   "outputs": [
    {
     "name": "stdout",
     "output_type": "stream",
     "text": [
      "9 5\n"
     ]
    }
   ],
   "source": [
    "#swap two numbers\n",
    "a=5\n",
    "b=9\n",
    "\n",
    "temp=a\n",
    "a=b\n",
    "b=temp\n",
    "\n",
    "print(a,b)"
   ]
  },
  {
   "cell_type": "code",
   "execution_count": 117,
   "id": "138b8208",
   "metadata": {},
   "outputs": [
    {
     "name": "stdout",
     "output_type": "stream",
     "text": [
      "9 5\n"
     ]
    }
   ],
   "source": [
    "# swap without temp value\n",
    "\n",
    "#swap two numbers\n",
    "a=5\n",
    "b=9\n",
    "\n",
    "a=a+b\n",
    "b=a-b\n",
    "a=a-b\n",
    "\n",
    "print(a,b)"
   ]
  },
  {
   "cell_type": "code",
   "execution_count": 118,
   "id": "d24ffbcc",
   "metadata": {},
   "outputs": [
    {
     "name": "stdout",
     "output_type": "stream",
     "text": [
      "{1: 5, 2: 10}\n"
     ]
    }
   ],
   "source": [
    "d={1:5}\n",
    "d[2]=10\n",
    "print(d)"
   ]
  },
  {
   "cell_type": "code",
   "execution_count": 120,
   "id": "6cceb3d1",
   "metadata": {},
   "outputs": [
    {
     "name": "stdout",
     "output_type": "stream",
     "text": [
      "5\n",
      "10\n"
     ]
    }
   ],
   "source": [
    "for i in d:\n",
    "    print(d[i])"
   ]
  },
  {
   "cell_type": "code",
   "execution_count": 124,
   "id": "4be264dd",
   "metadata": {},
   "outputs": [
    {
     "name": "stdout",
     "output_type": "stream",
     "text": [
      "1\n",
      "2\n"
     ]
    }
   ],
   "source": [
    "for i in d.keys():\n",
    "    print(i)\n"
   ]
  },
  {
   "cell_type": "code",
   "execution_count": 127,
   "id": "d84c2673",
   "metadata": {},
   "outputs": [
    {
     "name": "stdout",
     "output_type": "stream",
     "text": [
      "5\n",
      "10\n"
     ]
    }
   ],
   "source": [
    "for i in d.values():\n",
    "    print(i)"
   ]
  },
  {
   "cell_type": "code",
   "execution_count": 129,
   "id": "25524da1",
   "metadata": {},
   "outputs": [
    {
     "name": "stdout",
     "output_type": "stream",
     "text": [
      "1 5\n",
      "2 10\n"
     ]
    }
   ],
   "source": [
    "for key,value in d.items():\n",
    "    print(key,value)"
   ]
  },
  {
   "cell_type": "code",
   "execution_count": 132,
   "id": "4f862c88",
   "metadata": {},
   "outputs": [
    {
     "name": "stdout",
     "output_type": "stream",
     "text": [
      "[3, 5, 6, 8, 9]\n"
     ]
    }
   ],
   "source": [
    "# sorting a element\n",
    "\n",
    "mylist = [5,8,9,6,3]\n",
    "\n",
    "print(sorted(mylist))"
   ]
  },
  {
   "cell_type": "code",
   "execution_count": 134,
   "id": "3ae3b9dc",
   "metadata": {},
   "outputs": [
    {
     "name": "stdout",
     "output_type": "stream",
     "text": [
      "[3, 5, 6, 8, 9]\n"
     ]
    }
   ],
   "source": [
    "mylist = [5,8,9,6,3]\n",
    "\n",
    "for i in range(len(mylist)):\n",
    "    for j in range(i+1,len(mylist)):\n",
    "        if mylist[j] < mylist[i]:\n",
    "            mylist[i],mylist[j]=mylist[j],mylist[i]\n",
    "            \n",
    "print(mylist)"
   ]
  },
  {
   "cell_type": "code",
   "execution_count": 135,
   "id": "b9fc0063",
   "metadata": {},
   "outputs": [
    {
     "name": "stdout",
     "output_type": "stream",
     "text": [
      "9\n"
     ]
    }
   ],
   "source": [
    "# find max element\n",
    "mylist = [5,8,9,6,3]\n",
    "\n",
    "max=mylist[0]\n",
    "\n",
    "for i in mylist:\n",
    "    if i>max:\n",
    "        max=i\n",
    "        \n",
    "print(max)\n"
   ]
  },
  {
   "cell_type": "code",
   "execution_count": 136,
   "id": "558d5e34",
   "metadata": {},
   "outputs": [
    {
     "data": {
      "text/plain": [
       "[3, 5, 6, 8, 9]"
      ]
     },
     "execution_count": 136,
     "metadata": {},
     "output_type": "execute_result"
    }
   ],
   "source": [
    "#sorted asccending \n",
    "mylist = [5,8,9,6,3]\n",
    "\n",
    "new=sorted(mylist)\n",
    "new"
   ]
  },
  {
   "cell_type": "code",
   "execution_count": 137,
   "id": "0091aba6",
   "metadata": {},
   "outputs": [
    {
     "data": {
      "text/plain": [
       "[9, 8, 6, 5, 3]"
      ]
     },
     "execution_count": 137,
     "metadata": {},
     "output_type": "execute_result"
    }
   ],
   "source": [
    "#sorted deccending\n",
    "\n",
    "mylist = [5,8,9,6,3]\n",
    "new=sorted(mylist,reverse=True)\n",
    "new"
   ]
  },
  {
   "cell_type": "code",
   "execution_count": 142,
   "id": "cc574390",
   "metadata": {},
   "outputs": [
    {
     "data": {
      "text/plain": [
       "[2, 3, 4, 5, 7]"
      ]
     },
     "execution_count": 142,
     "metadata": {},
     "output_type": "execute_result"
    }
   ],
   "source": [
    "# find dublicate value and sort in accending order\n",
    "mylist = [2,5,7,5,3,4,5,2]\n",
    "\n",
    "new=sorted(list(set(mylist)))\n",
    "new"
   ]
  },
  {
   "cell_type": "code",
   "execution_count": 146,
   "id": "81953378",
   "metadata": {},
   "outputs": [
    {
     "data": {
      "text/plain": [
       "[2, 3, 4, 5, 7]"
      ]
     },
     "execution_count": 146,
     "metadata": {},
     "output_type": "execute_result"
    }
   ],
   "source": [
    "mylist = [2,5,7,5,3,4,5,2]\n",
    "\n",
    "new=[]\n",
    "\n",
    "for i in mylist:\n",
    "    if i not in new:\n",
    "        new.append(i)\n",
    "        \n",
    "sorted(new)"
   ]
  },
  {
   "cell_type": "code",
   "execution_count": 151,
   "id": "1ca36ebd",
   "metadata": {},
   "outputs": [
    {
     "data": {
      "text/plain": [
       "45"
      ]
     },
     "execution_count": 151,
     "metadata": {},
     "output_type": "execute_result"
    }
   ],
   "source": [
    "# Python program to find second largest number\n",
    "# in a list\n",
    "# List of numbers\n",
    "list1 = [10, 20, 20, 4, 45, 45, 45, 99, 99]\n",
    "\n",
    "new=sorted(list(set(list1)))\n",
    "new[-2]"
   ]
  },
  {
   "cell_type": "code",
   "execution_count": 153,
   "id": "be6e8904",
   "metadata": {},
   "outputs": [
    {
     "data": {
      "text/plain": [
       "10"
      ]
     },
     "execution_count": 153,
     "metadata": {},
     "output_type": "execute_result"
    }
   ],
   "source": [
    "# Number of words in a given sentense\n",
    "\n",
    "mystring = 'Maintaining & expending the database of prospects for the organization.'\n",
    "\n",
    "len(mystring.split())\n"
   ]
  },
  {
   "cell_type": "code",
   "execution_count": 161,
   "id": "4ee5e88a",
   "metadata": {},
   "outputs": [
    {
     "name": "stdout",
     "output_type": "stream",
     "text": [
      "['Maintaining', '&', 'expending', 'the', 'database', 'of', 'prospects', 'for', 'the', 'organization.']\n"
     ]
    },
    {
     "data": {
      "text/plain": [
       "list"
      ]
     },
     "execution_count": 161,
     "metadata": {},
     "output_type": "execute_result"
    }
   ],
   "source": [
    "mystring = 'Maintaining & expending the database of prospects for the organization.'\n",
    "l=mystring.split()\n",
    "print(l)\n",
    "type(l)"
   ]
  },
  {
   "cell_type": "code",
   "execution_count": 163,
   "id": "5146a1a5",
   "metadata": {},
   "outputs": [
    {
     "name": "stdout",
     "output_type": "stream",
     "text": [
      "Maintaining,&,expending,the,database,of,prospects,for,the,organization.\n",
      "<class 'str'>\n"
     ]
    }
   ],
   "source": [
    "s=\",\".join(l)\n",
    "print(s)\n",
    "print(type(s))"
   ]
  },
  {
   "cell_type": "code",
   "execution_count": 166,
   "id": "9ed25ee0",
   "metadata": {},
   "outputs": [
    {
     "name": "stdout",
     "output_type": "stream",
     "text": [
      "123451234512345\n"
     ]
    }
   ],
   "source": [
    "# extract digit from a given string\n",
    "\n",
    "mystring = 'Maintaining 12345 & expending 12345 the database of prospects for 12345 the org'\n",
    "digit = ''\n",
    "\n",
    "for i in mystring:\n",
    "    if i.isdigit()==True:\n",
    "        digit+=i\n",
    "        \n",
    "\n",
    "print(digit)"
   ]
  },
  {
   "cell_type": "code",
   "execution_count": 176,
   "id": "a39e960c",
   "metadata": {},
   "outputs": [
    {
     "data": {
      "text/plain": [
       "['Maintaining',\n",
       " '12345',\n",
       " '&',\n",
       " 'expending',\n",
       " '12345',\n",
       " 'the',\n",
       " 'database',\n",
       " 'of',\n",
       " 'prospects',\n",
       " 'for',\n",
       " '12345',\n",
       " 'the',\n",
       " 'org']"
      ]
     },
     "execution_count": 176,
     "metadata": {},
     "output_type": "execute_result"
    }
   ],
   "source": [
    "# convert the string into words\n",
    "mystring = 'Maintaining 12345 & expending 12345 the database of prospects for 12345 the org'\n",
    "\n",
    "l=mystring.split()\n",
    "l"
   ]
  },
  {
   "cell_type": "code",
   "execution_count": null,
   "id": "09089be4",
   "metadata": {},
   "outputs": [],
   "source": []
  },
  {
   "cell_type": "code",
   "execution_count": 184,
   "id": "dd751985",
   "metadata": {},
   "outputs": [
    {
     "name": "stdout",
     "output_type": "stream",
     "text": [
      "Enter a number153\n",
      "Its Armstrong number\n"
     ]
    }
   ],
   "source": [
    "# Armstrong number\n",
    "\n",
    "num=input(\"Enter a number\")\n",
    "\n",
    "def arms(x):\n",
    "    sum=0\n",
    "    l=len(str(x))\n",
    "    for i in x:\n",
    "        sum+=int(i)**l\n",
    "        \n",
    "    if sum==int(x):\n",
    "        print(\"Its Armstrong number\")\n",
    "        \n",
    "    else:\n",
    "        print(\"Not Armstrong number\")\n",
    "        \n",
    "arms(num)"
   ]
  },
  {
   "cell_type": "code",
   "execution_count": 182,
   "id": "1d899202",
   "metadata": {},
   "outputs": [
    {
     "name": "stdout",
     "output_type": "stream",
     "text": [
      "5\n"
     ]
    }
   ],
   "source": [
    "# Find the length of array without using len function\n",
    "arr = [1,5,9,6,3]\n",
    "\n",
    "length=0\n",
    "\n",
    "for i in arr:\n",
    "    length+=1\n",
    "    \n",
    "print(length)"
   ]
  },
  {
   "cell_type": "code",
   "execution_count": 187,
   "id": "a1c63ddc",
   "metadata": {},
   "outputs": [
    {
     "name": "stdout",
     "output_type": "stream",
     "text": [
      "* \n",
      "* * \n",
      "* * * \n",
      "* * * * \n",
      "* * * * * \n"
     ]
    }
   ],
   "source": [
    "# right angle triangle\n",
    "\n",
    "n=5\n",
    "for i in range(n):\n",
    "    for j in range(i+1):\n",
    "        print(\"*\",end=\" \")\n",
    "    print()"
   ]
  },
  {
   "cell_type": "code",
   "execution_count": 189,
   "id": "4b814c45",
   "metadata": {},
   "outputs": [
    {
     "name": "stdout",
     "output_type": "stream",
     "text": [
      "1 \n",
      "1 2 \n",
      "1 2 3 \n",
      "1 2 3 4 \n",
      "1 2 3 4 5 \n"
     ]
    }
   ],
   "source": [
    "n=5\n",
    "for i in range(n):\n",
    "    for j in range(i+1):\n",
    "        print(j+1,end=\" \")\n",
    "    print()"
   ]
  },
  {
   "cell_type": "code",
   "execution_count": 190,
   "id": "3ab25f66",
   "metadata": {},
   "outputs": [
    {
     "name": "stdout",
     "output_type": "stream",
     "text": [
      "* * * * * \n",
      "* * * * \n",
      "* * * \n",
      "* * \n",
      "* \n"
     ]
    }
   ],
   "source": [
    "n=5\n",
    "for i in range(n):\n",
    "    for j in range(n-i):\n",
    "        print(\"*\",end=\" \")\n",
    "    print()"
   ]
  },
  {
   "cell_type": "code",
   "execution_count": 199,
   "id": "3f99f5db",
   "metadata": {
    "scrolled": true
   },
   "outputs": [
    {
     "name": "stdout",
     "output_type": "stream",
     "text": [
      "          * \n",
      "        * * * \n",
      "      * * * * * \n",
      "    * * * * * * * \n",
      "  * * * * * * * * * \n"
     ]
    }
   ],
   "source": [
    "n=5\n",
    "\n",
    "for i in range(n):\n",
    "    for j in range(n-i):\n",
    "        print(\" \",end=\" \")\n",
    "    \n",
    "    \n",
    "    for j in range(i+1):\n",
    "        print(\"*\",end=\" \")\n",
    "    \n",
    "    for j in range(i+1-1):\n",
    "        print(\"*\",end=\" \")\n",
    "    print()"
   ]
  },
  {
   "cell_type": "code",
   "execution_count": 204,
   "id": "e237f98f",
   "metadata": {},
   "outputs": [
    {
     "name": "stdout",
     "output_type": "stream",
     "text": [
      "Enter a year1924\n",
      "Leap year\n"
     ]
    }
   ],
   "source": [
    "# leap year\n",
    "\n",
    "year=int(input(\"Enter a year\"))\n",
    "\n",
    "if (year%4==0 and year%100!=0) or (year%4==0 and year%400==0):\n",
    "    print(\"Leap year\")\n",
    "else:\n",
    "    print(\"Not leap Year\")"
   ]
  },
  {
   "cell_type": "code",
   "execution_count": 212,
   "id": "99384c52",
   "metadata": {},
   "outputs": [
    {
     "name": "stdout",
     "output_type": "stream",
     "text": [
      "{}\n"
     ]
    }
   ],
   "source": [
    "# Count of maximum occouring letter and number of times it is repeated\n",
    "mystring = 'Hello everyone, good afternoon'\n",
    "\n",
    "new={}\n",
    "\n",
    "for i in mystring:\n",
    "    for i in new:\n",
    "        if i in new:\n",
    "            new[i]=new[i]+1\n",
    "        else:\n",
    "            new[i]=1\n",
    "print(new)"
   ]
  },
  {
   "cell_type": "code",
   "execution_count": 210,
   "id": "5c0b09d9",
   "metadata": {},
   "outputs": [
    {
     "name": "stdout",
     "output_type": "stream",
     "text": [
      "{'H': 1, 'e': 5, 'l': 2, 'o': 6, ' ': 3, 'v': 1, 'r': 2, 'y': 1, 'n': 3, ',': 1, 'g': 1, 'd': 1, 'a': 1, 'f': 1, 't': 1}\n"
     ]
    }
   ],
   "source": [
    "# Count of maximum occouring letter and number of times it is repeated\n",
    "mystring = 'Hello everyone, good afternoon'\n",
    "mydict = {}\n",
    "for i in mystring:\n",
    "    if i in mydict:\n",
    "        mydict[i] = mydict[i] + 1\n",
    "    else:\n",
    "        mydict[i] = 1\n",
    "print(mydict)\n"
   ]
  },
  {
   "cell_type": "code",
   "execution_count": 214,
   "id": "b5426970",
   "metadata": {},
   "outputs": [
    {
     "name": "stdout",
     "output_type": "stream",
     "text": [
      "my message is Hello World\n"
     ]
    }
   ],
   "source": [
    "x=\"Hello World\"\n",
    "print(\"my message is {}\".format(x))"
   ]
  },
  {
   "cell_type": "code",
   "execution_count": 215,
   "id": "2a5ca7a5",
   "metadata": {},
   "outputs": [
    {
     "name": "stdout",
     "output_type": "stream",
     "text": [
      "my message is Hello World\n"
     ]
    }
   ],
   "source": [
    "print(f\"my message is {x}\")"
   ]
  },
  {
   "cell_type": "code",
   "execution_count": null,
   "id": "c4a9a7ec",
   "metadata": {},
   "outputs": [],
   "source": []
  },
  {
   "cell_type": "code",
   "execution_count": null,
   "id": "4413450e",
   "metadata": {},
   "outputs": [],
   "source": []
  }
 ],
 "metadata": {
  "kernelspec": {
   "display_name": "Python 3 (ipykernel)",
   "language": "python",
   "name": "python3"
  },
  "language_info": {
   "codemirror_mode": {
    "name": "ipython",
    "version": 3
   },
   "file_extension": ".py",
   "mimetype": "text/x-python",
   "name": "python",
   "nbconvert_exporter": "python",
   "pygments_lexer": "ipython3",
   "version": "3.9.13"
  }
 },
 "nbformat": 4,
 "nbformat_minor": 5
}
