{
 "cells": [
  {
   "cell_type": "code",
   "execution_count": 1,
   "id": "81041188",
   "metadata": {},
   "outputs": [],
   "source": [
    "# What is Inheritance - acquiring the properties or behavior of parent class into child class\n",
    "# why inheritance- To eliminate DRY(don't repeat yourselt) concept. It's gives code reusability\n",
    "# only child class can inherits the data members or methods of parent class and viceversa is not true\n",
    "# Note- we cant not inherits the private(__) data from parent classes\n",
    "\n",
    "\n",
    "class User():                         # parent class\n",
    "    \n",
    "    def login(self):\n",
    "        print(\"login\")\n",
    "        \n",
    "    def register(self):\n",
    "        print(\"register\")\n",
    "        \n",
    "class Student(User):                  # child class\n",
    "    \n",
    "    def enroll(self):\n",
    "        print(\"enroll\")\n",
    "        \n",
    "    def review(self):\n",
    "        print(\"review\")"
   ]
  },
  {
   "cell_type": "code",
   "execution_count": 2,
   "id": "d797223b",
   "metadata": {},
   "outputs": [],
   "source": [
    "# create an object of child class\n",
    "\n",
    "stu1=Student()"
   ]
  },
  {
   "cell_type": "code",
   "execution_count": 4,
   "id": "8ba86e02",
   "metadata": {},
   "outputs": [
    {
     "name": "stdout",
     "output_type": "stream",
     "text": [
      "enroll\n",
      "review\n",
      "login\n",
      "register\n"
     ]
    }
   ],
   "source": [
    "# access methods of child class and parent class\n",
    "\n",
    "stu1.enroll()\n",
    "stu1.review()\n",
    "stu1.login()\n",
    "stu1.register()"
   ]
  },
  {
   "cell_type": "code",
   "execution_count": 5,
   "id": "2913f370",
   "metadata": {},
   "outputs": [],
   "source": [
    "# we can't access child class methods using parent class object let's see\n",
    "\n",
    "user1=User()"
   ]
  },
  {
   "cell_type": "code",
   "execution_count": 6,
   "id": "e656d2f6",
   "metadata": {},
   "outputs": [
    {
     "name": "stdout",
     "output_type": "stream",
     "text": [
      "login\n",
      "register\n"
     ]
    }
   ],
   "source": [
    "user1.login()\n",
    "user1.register()\n"
   ]
  },
  {
   "cell_type": "code",
   "execution_count": 7,
   "id": "eaca4223",
   "metadata": {},
   "outputs": [
    {
     "ename": "AttributeError",
     "evalue": "'User' object has no attribute 'enroll'",
     "output_type": "error",
     "traceback": [
      "\u001b[1;31m---------------------------------------------------------------------------\u001b[0m",
      "\u001b[1;31mAttributeError\u001b[0m                            Traceback (most recent call last)",
      "\u001b[1;32m~\\AppData\\Local\\Temp\\ipykernel_23016\\508439826.py\u001b[0m in \u001b[0;36m<module>\u001b[1;34m\u001b[0m\n\u001b[1;32m----> 1\u001b[1;33m \u001b[0muser1\u001b[0m\u001b[1;33m.\u001b[0m\u001b[0menroll\u001b[0m\u001b[1;33m(\u001b[0m\u001b[1;33m)\u001b[0m\u001b[1;33m\u001b[0m\u001b[1;33m\u001b[0m\u001b[0m\n\u001b[0m",
      "\u001b[1;31mAttributeError\u001b[0m: 'User' object has no attribute 'enroll'"
     ]
    }
   ],
   "source": [
    "user1.enroll()"
   ]
  },
  {
   "cell_type": "code",
   "execution_count": 8,
   "id": "437a1a89",
   "metadata": {},
   "outputs": [
    {
     "ename": "AttributeError",
     "evalue": "'User' object has no attribute 'review'",
     "output_type": "error",
     "traceback": [
      "\u001b[1;31m---------------------------------------------------------------------------\u001b[0m",
      "\u001b[1;31mAttributeError\u001b[0m                            Traceback (most recent call last)",
      "\u001b[1;32m~\\AppData\\Local\\Temp\\ipykernel_23016\\4257785327.py\u001b[0m in \u001b[0;36m<module>\u001b[1;34m\u001b[0m\n\u001b[1;32m----> 1\u001b[1;33m \u001b[0muser1\u001b[0m\u001b[1;33m.\u001b[0m\u001b[0mreview\u001b[0m\u001b[1;33m(\u001b[0m\u001b[1;33m)\u001b[0m\u001b[1;33m\u001b[0m\u001b[1;33m\u001b[0m\u001b[0m\n\u001b[0m",
      "\u001b[1;31mAttributeError\u001b[0m: 'User' object has no attribute 'review'"
     ]
    }
   ],
   "source": [
    "user1.review()"
   ]
  },
  {
   "cell_type": "code",
   "execution_count": null,
   "id": "13187576",
   "metadata": {},
   "outputs": [],
   "source": [
    "# so reverse inheritance not possible"
   ]
  },
  {
   "cell_type": "code",
   "execution_count": null,
   "id": "2f110a06",
   "metadata": {},
   "outputs": [],
   "source": []
  },
  {
   "cell_type": "code",
   "execution_count": null,
   "id": "8c77e1ad",
   "metadata": {},
   "outputs": [],
   "source": [
    "# Types of Inheritance"
   ]
  },
  {
   "cell_type": "markdown",
   "id": "e9121cc9",
   "metadata": {},
   "source": [
    "# Inherit Constructor"
   ]
  },
  {
   "cell_type": "code",
   "execution_count": 12,
   "id": "e74034e5",
   "metadata": {},
   "outputs": [
    {
     "name": "stdout",
     "output_type": "stream",
     "text": [
      "Inside Phone Constructor\n",
      "motorola\n",
      "15\n",
      "20000\n"
     ]
    }
   ],
   "source": [
    "# we can also inherits the parent class constructor\n",
    "\n",
    "\n",
    "class Phone():\n",
    "    def __init__(self,price,brand,camera):\n",
    "        self.price=price\n",
    "        self.brand=brand\n",
    "        self.camera=camera\n",
    "        \n",
    "        print(\"Inside Phone Constructor\")\n",
    "        \n",
    "class SmartPhone(Phone):\n",
    "    pass\n",
    "\n",
    "\n",
    "s=SmartPhone(20000,'motorola',15)\n",
    "\n",
    "print(s.brand)\n",
    "print(s.camera)\n",
    "print(s.price)"
   ]
  },
  {
   "cell_type": "code",
   "execution_count": null,
   "id": "4d8fc5da",
   "metadata": {},
   "outputs": [],
   "source": []
  },
  {
   "cell_type": "markdown",
   "id": "d0cf17ec",
   "metadata": {},
   "source": [
    "# private data/methods we can not inherits"
   ]
  },
  {
   "cell_type": "code",
   "execution_count": 14,
   "id": "96cca0be",
   "metadata": {},
   "outputs": [
    {
     "name": "stdout",
     "output_type": "stream",
     "text": [
      "Inside Phone Constructor\n",
      "motorola\n"
     ]
    },
    {
     "ename": "AttributeError",
     "evalue": "'SmartPhone' object has no attribute '__camera'",
     "output_type": "error",
     "traceback": [
      "\u001b[1;31m---------------------------------------------------------------------------\u001b[0m",
      "\u001b[1;31mAttributeError\u001b[0m                            Traceback (most recent call last)",
      "\u001b[1;32m~\\AppData\\Local\\Temp\\ipykernel_23016\\2163862437.py\u001b[0m in \u001b[0;36m<module>\u001b[1;34m\u001b[0m\n\u001b[0;32m     14\u001b[0m \u001b[1;33m\u001b[0m\u001b[0m\n\u001b[0;32m     15\u001b[0m \u001b[0mprint\u001b[0m\u001b[1;33m(\u001b[0m\u001b[0ms\u001b[0m\u001b[1;33m.\u001b[0m\u001b[0mbrand\u001b[0m\u001b[1;33m)\u001b[0m\u001b[1;33m\u001b[0m\u001b[1;33m\u001b[0m\u001b[0m\n\u001b[1;32m---> 16\u001b[1;33m \u001b[0mprint\u001b[0m\u001b[1;33m(\u001b[0m\u001b[0ms\u001b[0m\u001b[1;33m.\u001b[0m\u001b[0m__camera\u001b[0m\u001b[1;33m)\u001b[0m\u001b[1;33m\u001b[0m\u001b[1;33m\u001b[0m\u001b[0m\n\u001b[0m\u001b[0;32m     17\u001b[0m \u001b[0mprint\u001b[0m\u001b[1;33m(\u001b[0m\u001b[0ms\u001b[0m\u001b[1;33m.\u001b[0m\u001b[0m__price\u001b[0m\u001b[1;33m)\u001b[0m\u001b[1;33m\u001b[0m\u001b[1;33m\u001b[0m\u001b[0m\n",
      "\u001b[1;31mAttributeError\u001b[0m: 'SmartPhone' object has no attribute '__camera'"
     ]
    }
   ],
   "source": [
    "\n",
    "class Phone():\n",
    "    def __init__(self,price,brand,camera):\n",
    "        self.__price=price                    # '__price' is private data member\n",
    "        self.brand=brand                      # 'brand' is public\n",
    "        self.__camera=camera\n",
    "        \n",
    "        print(\"Inside Phone Constructor\")\n",
    "        \n",
    "class SmartPhone(Phone):\n",
    "    pass\n",
    "\n",
    "\n",
    "s=SmartPhone(20000,'motorola',15)\n",
    "\n",
    "print(s.brand)\n",
    "print(s.__camera)\n",
    "print(s.__price)"
   ]
  },
  {
   "cell_type": "code",
   "execution_count": null,
   "id": "dd6aef72",
   "metadata": {},
   "outputs": [],
   "source": []
  },
  {
   "cell_type": "code",
   "execution_count": null,
   "id": "389bb643",
   "metadata": {},
   "outputs": [],
   "source": []
  },
  {
   "cell_type": "markdown",
   "id": "a26afa26",
   "metadata": {},
   "source": [
    "# Method_Overriding"
   ]
  },
  {
   "cell_type": "code",
   "execution_count": 15,
   "id": "464ad500",
   "metadata": {},
   "outputs": [
    {
     "name": "stdout",
     "output_type": "stream",
     "text": [
      "Buying a Smartphone\n"
     ]
    }
   ],
   "source": [
    "# this concepts comes under polymorphism it means two methods with same name but in different classes\n",
    "# so if child class object will try to run buy() method then only child class's buy() method will execute\n",
    "\n",
    "class Phone():\n",
    "    def __init__(self,price,brand,camera):\n",
    "        self.price=price\n",
    "        self.brand=brand\n",
    "        self.camera=camera\n",
    "        \n",
    "    def buy(self):\n",
    "        print(\"Buying a phone\")\n",
    "        \n",
    "class SmartPhone(Phone):\n",
    "    \n",
    "    def buy(self):\n",
    "        print(\"Buying a Smartphone\")\n",
    "\n",
    "\n",
    "s=SmartPhone(20000,'motorola',15)\n",
    "\n",
    "s.buy()\n"
   ]
  },
  {
   "cell_type": "code",
   "execution_count": null,
   "id": "1323a4d2",
   "metadata": {},
   "outputs": [],
   "source": []
  },
  {
   "cell_type": "code",
   "execution_count": null,
   "id": "b243b746",
   "metadata": {},
   "outputs": [],
   "source": []
  },
  {
   "cell_type": "markdown",
   "id": "a71637a1",
   "metadata": {},
   "source": [
    "# super()"
   ]
  },
  {
   "cell_type": "code",
   "execution_count": 16,
   "id": "d9ca11bc",
   "metadata": {},
   "outputs": [
    {
     "name": "stdout",
     "output_type": "stream",
     "text": [
      "Buying a Smartphone\n",
      "Buying a phone\n"
     ]
    }
   ],
   "source": [
    "# using super we can access parent class's:\n",
    "# 1) methods\n",
    "# 2)constructors\n",
    "# 3) but not instance variables/Data members\n",
    "\n",
    "\n",
    "class Phone():\n",
    "    def __init__(self,price,brand,camera):\n",
    "        self.price=price\n",
    "        self.brand=brand\n",
    "        self.camera=camera\n",
    "        \n",
    "    def buy(self):\n",
    "        print(\"Buying a phone\")\n",
    "        \n",
    "class SmartPhone(Phone):\n",
    "    \n",
    "    def buy(self):\n",
    "        print(\"Buying a Smartphone\")\n",
    "        super().buy()                      # using super() we can access buy() method of parent class\n",
    "\n",
    "s=SmartPhone(20000,'motorola',15)\n",
    "\n",
    "s.buy()\n"
   ]
  },
  {
   "cell_type": "code",
   "execution_count": null,
   "id": "af66a7d5",
   "metadata": {},
   "outputs": [],
   "source": []
  },
  {
   "cell_type": "markdown",
   "id": "4004c36a",
   "metadata": {},
   "source": [
    "# Access parents Constructor using super keyword"
   ]
  },
  {
   "cell_type": "code",
   "execution_count": 20,
   "id": "71d423ec",
   "metadata": {},
   "outputs": [
    {
     "name": "stdout",
     "output_type": "stream",
     "text": [
      "came first here!!\n",
      "Inside Phone constructor\n",
      "Inside smartphone constructor\n",
      "Android\n",
      "motorola\n"
     ]
    }
   ],
   "source": [
    "class Phone():\n",
    "    \n",
    "    \n",
    "    def __init__(self,price,brand,camera):\n",
    "        print(\"Inside Phone constructor\")\n",
    "        self.price=price\n",
    "        self.brand=brand\n",
    "        self.camera=camera\n",
    "        \n",
    "        \n",
    "class SmartPhone(Phone):\n",
    "    \n",
    "    def __init__(self,price,brand,camera,os,ram):\n",
    "        print(\"came first here!!\")\n",
    "        super().__init__(price,brand,camera)\n",
    "        self.os=os\n",
    "        self.ram=ram\n",
    "        print(\"Inside smartphone constructor\")\n",
    "                            \n",
    "\n",
    "s=SmartPhone(20000,'motorola',15,'Android',8)\n",
    "\n",
    "print(s.os)\n",
    "print(s.brand)"
   ]
  },
  {
   "cell_type": "code",
   "execution_count": null,
   "id": "b4e84d53",
   "metadata": {},
   "outputs": [],
   "source": []
  },
  {
   "cell_type": "code",
   "execution_count": 24,
   "id": "597ce6bf",
   "metadata": {},
   "outputs": [
    {
     "name": "stdout",
     "output_type": "stream",
     "text": [
      "100\n",
      "200\n"
     ]
    }
   ],
   "source": [
    "class Parent():\n",
    "    \n",
    "    def __init__(self,num):\n",
    "        self.__num=num\n",
    "        \n",
    "    def get_num(self):\n",
    "        print(self.__num)\n",
    "        \n",
    "        \n",
    "class Child(Parent):\n",
    "    \n",
    "    def __init__(self,num,val):\n",
    "        super().__init__(num)\n",
    "        self.__val=val\n",
    "        \n",
    "    def get_val(self):\n",
    "        print(self.__val)\n",
    "        \n",
    "        \n",
    "\n",
    "son=Child(100,200)\n",
    "son.get_num()\n",
    "son.get_val()"
   ]
  },
  {
   "cell_type": "code",
   "execution_count": null,
   "id": "f760e2d8",
   "metadata": {},
   "outputs": [],
   "source": []
  }
 ],
 "metadata": {
  "kernelspec": {
   "display_name": "Python 3 (ipykernel)",
   "language": "python",
   "name": "python3"
  },
  "language_info": {
   "codemirror_mode": {
    "name": "ipython",
    "version": 3
   },
   "file_extension": ".py",
   "mimetype": "text/x-python",
   "name": "python",
   "nbconvert_exporter": "python",
   "pygments_lexer": "ipython3",
   "version": "3.9.13"
  }
 },
 "nbformat": 4,
 "nbformat_minor": 5
}
