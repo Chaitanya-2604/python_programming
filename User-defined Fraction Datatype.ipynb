{
 "cells": [
  {
   "cell_type": "code",
   "execution_count": 1,
   "id": "ad3ad30d",
   "metadata": {},
   "outputs": [],
   "source": [
    "# In most of the programming languages we dont have fraction datatype even in python also\n",
    "# This is user defined fraction datatype code using magic methods\n",
    "\n",
    "class fraction():\n",
    "    def __init__(self,n,d):\n",
    "        self.num=n\n",
    "        self.den=d\n",
    "        \n",
    "    def __str__(self):\n",
    "        \n",
    "        \"\"\"\n",
    "            __str__ is one of the magic function.this method invoked by after __init__\n",
    "            execute.used to cocat numerator and denominator values\n",
    "        \"\"\"\n",
    "        return \"{}/{}\".format(self.num,self.den)\n",
    "    \n",
    "    \n",
    "    def __add__(self,other):\n",
    "        \n",
    "        \"\"\"\n",
    "            __add__ is also magic method of python used to adding two \n",
    "            fraction values\n",
    "        \"\"\"\n",
    "        temp_num=self.num*other.den+self.den*other.num\n",
    "        temp_den=self.den*other.den\n",
    "        \n",
    "        return \"{}/{}\".format(temp_num,temp_den)"
   ]
  },
  {
   "cell_type": "code",
   "execution_count": 2,
   "id": "9acf1a89",
   "metadata": {},
   "outputs": [],
   "source": [
    "# Enter numerator and denominators values\n",
    "a=fraction(2,3)\n",
    "b=fraction(3,4)"
   ]
  },
  {
   "cell_type": "code",
   "execution_count": 3,
   "id": "4af3be3e",
   "metadata": {},
   "outputs": [
    {
     "name": "stdout",
     "output_type": "stream",
     "text": [
      "2/3\n"
     ]
    }
   ],
   "source": [
    "print(a)"
   ]
  },
  {
   "cell_type": "code",
   "execution_count": 4,
   "id": "eb8f6034",
   "metadata": {},
   "outputs": [
    {
     "name": "stdout",
     "output_type": "stream",
     "text": [
      "3/4\n"
     ]
    }
   ],
   "source": [
    "print(b)"
   ]
  },
  {
   "cell_type": "code",
   "execution_count": 5,
   "id": "f6692170",
   "metadata": {},
   "outputs": [
    {
     "name": "stdout",
     "output_type": "stream",
     "text": [
      "17/12\n"
     ]
    }
   ],
   "source": [
    "# solving addition of two fraction values\n",
    "print(a+b)"
   ]
  },
  {
   "cell_type": "code",
   "execution_count": null,
   "id": "30c6b5ae",
   "metadata": {},
   "outputs": [],
   "source": []
  }
 ],
 "metadata": {
  "kernelspec": {
   "display_name": "Python 3 (ipykernel)",
   "language": "python",
   "name": "python3"
  },
  "language_info": {
   "codemirror_mode": {
    "name": "ipython",
    "version": 3
   },
   "file_extension": ".py",
   "mimetype": "text/x-python",
   "name": "python",
   "nbconvert_exporter": "python",
   "pygments_lexer": "ipython3",
   "version": "3.9.13"
  }
 },
 "nbformat": 4,
 "nbformat_minor": 5
}
