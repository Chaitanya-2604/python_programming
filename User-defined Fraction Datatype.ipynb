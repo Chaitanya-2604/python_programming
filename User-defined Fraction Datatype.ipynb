{
 "cells": [
  {
   "cell_type": "code",
   "execution_count": 9,
   "id": "5dd52d10",
   "metadata": {},
   "outputs": [],
   "source": [
    "# In most of the programming languages we dont have fraction datatype even in python also\n",
    "# This is user defined fraction datatype code using magic methods\n",
    "\n",
    "class fraction():\n",
    "    def __init__(self,n,d):\n",
    "        self.num=n\n",
    "        self.den=d\n",
    "        \n",
    "    def __str__(self):\n",
    "        \n",
    "        \"\"\"\n",
    "            __str__ is one of the magic function.this method invoked by after __init__\n",
    "            execute.used to cocat numerator and denominator values\n",
    "        \"\"\"\n",
    "        return \"{}/{}\".format(self.num,self.den)\n",
    "    \n",
    "    \n",
    "    def __add__(self,other):\n",
    "        \n",
    "        \"\"\"\n",
    "            __add__ is also magic method of python used to adding two \n",
    "            fraction values\n",
    "        \"\"\"\n",
    "        temp_num=self.num*other.den+self.den*other.num\n",
    "        temp_den=self.den*other.den\n",
    "        \n",
    "        return \"{}/{}\".format(temp_num,temp_den)\n",
    "    \n",
    "    def __sub__(self,other):\n",
    "        \n",
    "        \"\"\"\n",
    "            __sub__ is also magic method of python used to subtract two \n",
    "            fraction values\n",
    "        \"\"\"\n",
    "        temp_num=self.num*other.den-self.den*other.num\n",
    "        temp_den=self.den*other.den\n",
    "        \n",
    "        return \"{}/{}\".format(temp_num,temp_den)\n",
    "    \n",
    "    def __mul__(self,other):\n",
    "        \n",
    "        \"\"\"\n",
    "            __mul__ is also magic method of python used to multiply two \n",
    "            fraction values\n",
    "        \"\"\"\n",
    "        temp_num=self.num*other.num\n",
    "        temp_den=self.den*other.den\n",
    "        \n",
    "        return \"{}/{}\".format(temp_num,temp_den)\n",
    "    \n",
    "     \n",
    "    def __truediv__(self,other):\n",
    "        \n",
    "        \"\"\"\n",
    "            __truediv__ is also magic method of python used to divide two \n",
    "            fraction values\n",
    "        \"\"\"\n",
    "        temp_num=self.num*other.den\n",
    "        temp_den=self.den*other.num\n",
    "        \n",
    "        return \"{}/{}\".format(temp_num,temp_den)"
   ]
  },
  {
   "cell_type": "code",
   "execution_count": 11,
   "id": "8f0dac36",
   "metadata": {},
   "outputs": [],
   "source": [
    "# Enter numerator and denominators values\n",
    "a=fraction(2,3)\n",
    "b=fraction(3,4)"
   ]
  },
  {
   "cell_type": "code",
   "execution_count": 12,
   "id": "02bdee8e",
   "metadata": {},
   "outputs": [
    {
     "name": "stdout",
     "output_type": "stream",
     "text": [
      "2/3\n"
     ]
    }
   ],
   "source": [
    "print(a)"
   ]
  },
  {
   "cell_type": "code",
   "execution_count": 13,
   "id": "a0aa899f",
   "metadata": {},
   "outputs": [
    {
     "name": "stdout",
     "output_type": "stream",
     "text": [
      "3/4\n"
     ]
    }
   ],
   "source": [
    "print(b)"
   ]
  },
  {
   "cell_type": "code",
   "execution_count": 14,
   "id": "c61eee04",
   "metadata": {},
   "outputs": [
    {
     "name": "stdout",
     "output_type": "stream",
     "text": [
      "17/12\n"
     ]
    }
   ],
   "source": [
    "# solving addition of two fraction values\n",
    "print(a+b)"
   ]
  },
  {
   "cell_type": "code",
   "execution_count": 15,
   "id": "45072737",
   "metadata": {},
   "outputs": [
    {
     "name": "stdout",
     "output_type": "stream",
     "text": [
      "-1/12\n"
     ]
    }
   ],
   "source": [
    "# solving subtraction of two fraction values\n",
    "\n",
    "print(a-b)"
   ]
  },
  {
   "cell_type": "code",
   "execution_count": 16,
   "id": "265e69d0",
   "metadata": {},
   "outputs": [
    {
     "name": "stdout",
     "output_type": "stream",
     "text": [
      "6/12\n"
     ]
    }
   ],
   "source": [
    "# solving multiplication of two fraction values\n",
    "\n",
    "print(a*b)"
   ]
  },
  {
   "cell_type": "code",
   "execution_count": 17,
   "id": "01528cc1",
   "metadata": {},
   "outputs": [
    {
     "name": "stdout",
     "output_type": "stream",
     "text": [
      "8/9\n"
     ]
    }
   ],
   "source": [
    "# solving division of two fraction values\n",
    "\n",
    "print(a/b)"
   ]
  },
  {
   "cell_type": "code",
   "execution_count": null,
   "id": "330b573c",
   "metadata": {},
   "outputs": [],
   "source": []
  }
 ],
 "metadata": {
  "kernelspec": {
   "display_name": "Python 3 (ipykernel)",
   "language": "python",
   "name": "python3"
  },
  "language_info": {
   "codemirror_mode": {
    "name": "ipython",
    "version": 3
   },
   "file_extension": ".py",
   "mimetype": "text/x-python",
   "name": "python",
   "nbconvert_exporter": "python",
   "pygments_lexer": "ipython3",
   "version": "3.9.13"
  }
 },
 "nbformat": 4,
 "nbformat_minor": 5
}
